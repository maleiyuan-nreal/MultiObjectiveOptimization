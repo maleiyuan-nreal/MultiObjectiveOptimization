{
 "cells": [
  {
   "cell_type": "code",
   "execution_count": 1,
   "metadata": {},
   "outputs": [],
   "source": [
    "import scipy.misc as m\n",
    "import glob\n",
    "import numpy as np\n",
    "import cv2\n",
    "import imageio\n",
    "root_path = \"/home/lyma/SHARE_DATA/data_depth/Cityscapes/disparity/train/aachen/\"\n",
    "disparity_path_list = glob.glob(root_path+\"*.png\")"
   ]
  },
  {
   "cell_type": "code",
   "execution_count": 5,
   "metadata": {},
   "outputs": [
    {
     "name": "stdout",
     "output_type": "stream",
     "text": [
      "/home/lyma/SHARE_DATA/data_depth/Cityscapes/disparity/train/aachen/aachen_000161_000019_disparity.png\n",
      "31186.0 0.0\n"
     ]
    },
    {
     "name": "stderr",
     "output_type": "stream",
     "text": [
      "/home/lyma/anaconda3/envs/py37/lib/python3.7/site-packages/ipykernel_launcher.py:4: DeprecationWarning:     `imread` is deprecated!\n",
      "    `imread` is deprecated in SciPy 1.0.0, and will be removed in 1.2.0.\n",
      "    Use ``imageio.imread`` instead.\n",
      "  after removing the cwd from sys.path.\n"
     ]
    }
   ],
   "source": [
    "disparity_path_0 = disparity_path_list[0]\n",
    "disparity_path_1 = disparity_path_list[1]\n",
    "print(disparity_path_0)\n",
    "depth = np.array(m.imread(disparity_path_0) , dtype=np.float32)\n",
    "print(np.max(depth),np.min(depth))\n",
    "\n",
    "\n",
    "disparity_list = list()\n",
    "for path in disparity_path_list:\n",
    "    disparity_map = np.array(imageio.imread(disparity_path_0) , dtype=np.float32)\n",
    "    disparity_list.append(disparity_map[np.newaxis,:])\n",
    "disparity = np.concatenate(disparity_list, axis = 0)"
   ]
  },
  {
   "cell_type": "code",
   "execution_count": 6,
   "metadata": {},
   "outputs": [
    {
     "name": "stdout",
     "output_type": "stream",
     "text": [
      "(1024, 2048) 31186.0 0.0 (2048,)\n",
      "(1024, 2048) 32257.0 0.0 (2048,)\n",
      "(174, 1024, 2048)\n",
      "(962, 962) 0.0 32257.0\n"
     ]
    }
   ],
   "source": [
    "disparity_0 = np.array(imageio.imread(disparity_path_0) , dtype=np.float32)\n",
    "disparity_1 = np.array(imageio.imread(disparity_path_1) , dtype=np.float32)\n",
    "print(disparity_0.shape, np.max(disparity_0),np.min(disparity_0), np.mean(disparity_0,axis=0).shape)\n",
    "pos = np.unravel_index(np.argmax(disparity_1),disparity_1.shape)\n",
    "print(disparity_1.shape, np.max(disparity_1),np.min(disparity_1), np.mean(disparity_1,axis=0).shape)\n",
    "# disparity = np.concatenate([disparity_0[np.newaxis,:], disparity_1[np.newaxis,:]], axis=0)\n",
    "print(disparity.shape)\n",
    "print(pos, disparity_0[pos], disparity_1[pos])\n"
   ]
  },
  {
   "cell_type": "code",
   "execution_count": 8,
   "metadata": {},
   "outputs": [],
   "source": [
    "import copy\n",
    "def process_depth(dep, a_min=0, a_max=10):\n",
    "    dep = np.clip(dep, a_min=a_min, a_max=a_max)\n",
    "    dep = (copy.deepcopy(dep) - a_min) / (a_max - a_min)\n",
    "    dep_vis = dep * 255\n",
    "\n",
    "    return dep_vis.astype('uint8')"
   ]
  },
  {
   "cell_type": "code",
   "execution_count": 9,
   "metadata": {},
   "outputs": [
    {
     "name": "stdout",
     "output_type": "stream",
     "text": [
      "(1024, 2048) 31186.0 0.0\n",
      "0.0\n"
     ]
    },
    {
     "data": {
      "text/plain": [
       "True"
      ]
     },
     "execution_count": 9,
     "metadata": {},
     "output_type": "execute_result"
    }
   ],
   "source": [
    "depth_mean = np.mean(disparity,axis=0)\n",
    "np.save(\"/home/lyma/MultiObjectiveOptimization/depth_mean.npy\",depth_mean)\n",
    "print(depth_mean.shape, np.max(depth_mean),np.min(depth_mean))\n",
    "print(depth_mean[pos])\n",
    "cv2.imwrite(\"t.jpg\", process_depth(depth_mean, np.min(depth_mean), np.max(depth_mean)))"
   ]
  },
  {
   "cell_type": "code",
   "execution_count": 20,
   "metadata": {},
   "outputs": [
    {
     "data": {
      "text/plain": [
       "1475.0"
      ]
     },
     "execution_count": 20,
     "metadata": {},
     "output_type": "execute_result"
    }
   ],
   "source": [
    "depth_mean[100,1100]"
   ]
  },
  {
   "cell_type": "code",
   "execution_count": 23,
   "metadata": {},
   "outputs": [
    {
     "name": "stdout",
     "output_type": "stream",
     "text": [
      "[ 0  1  3  4  7  8 11 12 13 17 20 21 22 23 24 26 33]\n",
      "[    0     1     3     4     7     8     9    11    17    19    20    21\n",
      "    23 24000 24001 24002 24003 24004 24005 26000 26001 26002 26003 26004\n",
      " 26005 26006 26007 26008 26009 26010 26011 26012 26013 26014 26015 26016\n",
      " 26017 26018 33000]\n"
     ]
    },
    {
     "name": "stderr",
     "output_type": "stream",
     "text": [
      "/home/lyma/anaconda3/envs/py37/lib/python3.7/site-packages/ipykernel_launcher.py:7: DeprecationWarning:     `imread` is deprecated!\n",
      "    `imread` is deprecated in SciPy 1.0.0, and will be removed in 1.2.0.\n",
      "    Use ``imageio.imread`` instead.\n",
      "  import sys\n",
      "/home/lyma/anaconda3/envs/py37/lib/python3.7/site-packages/ipykernel_launcher.py:11: DeprecationWarning:     `imread` is deprecated!\n",
      "    `imread` is deprecated in SciPy 1.0.0, and will be removed in 1.2.0.\n",
      "    Use ``imageio.imread`` instead.\n",
      "  # This is added back by InteractiveShellApp.init_path()\n"
     ]
    }
   ],
   "source": [
    "instance_map_root = \"/home/lyma/Cityscapes/gtFine/train/aachen/*instanceIds.png\"\n",
    "import scipy.misc as m\n",
    "lbl_root = \"/home/lyma/Cityscapes/gtFine/train/aachen/*labelIds.png\"\n",
    "\n",
    "\n",
    "lbl_map_path = glob.glob(lbl_root)[0]\n",
    "lbl = m.imread(lbl_map_path)\n",
    "print(np.unique(lbl))\n",
    "\n",
    "instance_map_path = glob.glob(instance_map_root)[0]\n",
    "ins = m.imread(instance_map_path)\n",
    "print(np.unique(ins))\n"
   ]
  },
  {
   "cell_type": "code",
   "execution_count": null,
   "metadata": {},
   "outputs": [],
   "source": []
  }
 ],
 "metadata": {
  "interpreter": {
   "hash": "03ac31138da60eb9474b5fec0077037ceffae68c9c3533ed2b1b84a7093662f8"
  },
  "kernelspec": {
   "display_name": "Python 3.7.11 ('py37')",
   "language": "python",
   "name": "python3"
  },
  "language_info": {
   "codemirror_mode": {
    "name": "ipython",
    "version": 3
   },
   "file_extension": ".py",
   "mimetype": "text/x-python",
   "name": "python",
   "nbconvert_exporter": "python",
   "pygments_lexer": "ipython3",
   "version": "3.7.11"
  },
  "orig_nbformat": 4
 },
 "nbformat": 4,
 "nbformat_minor": 2
}
